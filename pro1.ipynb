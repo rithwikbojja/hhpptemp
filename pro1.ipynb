{
  "nbformat": 4,
  "nbformat_minor": 0,
  "metadata": {
    "colab": {
      "name": "pro1.ipynb",
      "provenance": [],
      "collapsed_sections": []
    },
    "kernelspec": {
      "name": "python3",
      "display_name": "Python 3"
    }
  },
  "cells": [
    {
      "cell_type": "markdown",
      "metadata": {
        "id": "HS652s5IJmYx",
        "colab_type": "text"
      },
      "source": [
        "Building a song recommender\n",
        "------------- Dataset used: ------------- Million Songs Dataset Source: http://labrosa.ee.columbia.edu/millionsong/ Paper: http://ismir2011.ismir.net/papers/OS6-1.pdf The current notebook uses a subset of the above data containing 10,000 songs"
      ]
    },
    {
      "cell_type": "code",
      "metadata": {
        "id": "u2UFf_uYUp7v",
        "colab_type": "code",
        "colab": {}
      },
      "source": [
        "import numpy as np\n",
        "import pandas as pd"
      ],
      "execution_count": 1,
      "outputs": []
    },
    {
      "cell_type": "markdown",
      "metadata": {
        "id": "EOXWT3glJ2Nl",
        "colab_type": "text"
      },
      "source": [
        "Load music data"
      ]
    },
    {
      "cell_type": "code",
      "metadata": {
        "id": "y_9IgdgYUycM",
        "colab_type": "code",
        "colab": {}
      },
      "source": [
        "triplets_file = 'https://static.turi.com/datasets/millionsong/10000.txt'"
      ],
      "execution_count": 2,
      "outputs": []
    },
    {
      "cell_type": "code",
      "metadata": {
        "id": "LwgSWcJHWcLV",
        "colab_type": "code",
        "colab": {}
      },
      "source": [
        "songs_metadata_file = 'https://static.turi.com/datasets/millionsong/song_data.csv'"
      ],
      "execution_count": 3,
      "outputs": []
    },
    {
      "cell_type": "code",
      "metadata": {
        "id": "5gUd3c9TWA8P",
        "colab_type": "code",
        "colab": {}
      },
      "source": [
        "song_df_1 = pd.read_csv(triplets_file, header=None, sep = \"\\t\")"
      ],
      "execution_count": 4,
      "outputs": []
    },
    {
      "cell_type": "code",
      "metadata": {
        "id": "6A59rHKYUyhd",
        "colab_type": "code",
        "colab": {}
      },
      "source": [
        "song_df_1.columns = ['user_id', 'song_id', 'listen_count']"
      ],
      "execution_count": 5,
      "outputs": []
    },
    {
      "cell_type": "code",
      "metadata": {
        "id": "HSiZbcMCUykQ",
        "colab_type": "code",
        "colab": {
          "base_uri": "https://localhost:8080/",
          "height": 255
        },
        "outputId": "657a9d6a-72d6-4599-f00a-e81a51d03dc0"
      },
      "source": [
        "print(song_df_1)"
      ],
      "execution_count": 6,
      "outputs": [
        {
          "output_type": "stream",
          "text": [
            "                                          user_id  ... listen_count\n",
            "0        b80344d063b5ccb3212f76538f3d9e43d87dca9e  ...            1\n",
            "1        b80344d063b5ccb3212f76538f3d9e43d87dca9e  ...            2\n",
            "2        b80344d063b5ccb3212f76538f3d9e43d87dca9e  ...            1\n",
            "3        b80344d063b5ccb3212f76538f3d9e43d87dca9e  ...            1\n",
            "4        b80344d063b5ccb3212f76538f3d9e43d87dca9e  ...            1\n",
            "...                                           ...  ...          ...\n",
            "1999995  d8bfd4ec88f0f3773a9e022e3c1a0f1d3b7b6a92  ...            2\n",
            "1999996  d8bfd4ec88f0f3773a9e022e3c1a0f1d3b7b6a92  ...            4\n",
            "1999997  d8bfd4ec88f0f3773a9e022e3c1a0f1d3b7b6a92  ...            3\n",
            "1999998  d8bfd4ec88f0f3773a9e022e3c1a0f1d3b7b6a92  ...            1\n",
            "1999999  d8bfd4ec88f0f3773a9e022e3c1a0f1d3b7b6a92  ...            1\n",
            "\n",
            "[2000000 rows x 3 columns]\n"
          ],
          "name": "stdout"
        }
      ]
    },
    {
      "cell_type": "code",
      "metadata": {
        "id": "VGlmxRDwX3GC",
        "colab_type": "code",
        "colab": {}
      },
      "source": [
        "songs_metadata_file = 'https://static.turi.com/datasets/millionsong/song_data.csv'"
      ],
      "execution_count": 7,
      "outputs": []
    },
    {
      "cell_type": "code",
      "metadata": {
        "id": "2djfqQ2fX3QN",
        "colab_type": "code",
        "colab": {}
      },
      "source": [
        "song_df_2 =  pd.read_csv(songs_metadata_file)"
      ],
      "execution_count": 8,
      "outputs": []
    },
    {
      "cell_type": "markdown",
      "metadata": {
        "id": "5KkzfhRB2gIJ",
        "colab_type": "text"
      },
      "source": [
        "\n",
        "Explore data"
      ]
    },
    {
      "cell_type": "code",
      "metadata": {
        "id": "U557PzLPX3OJ",
        "colab_type": "code",
        "colab": {}
      },
      "source": [
        "song_df = pd.merge(song_df_1, song_df_2.drop_duplicates(['song_id']), on=\"song_id\", how=\"left\")"
      ],
      "execution_count": 9,
      "outputs": []
    },
    {
      "cell_type": "markdown",
      "metadata": {
        "id": "JHP-wj1sKEx1",
        "colab_type": "text"
      },
      "source": [
        "Music data shows how many times a user listened to a song, as well as the details of the song."
      ]
    },
    {
      "cell_type": "code",
      "metadata": {
        "id": "nO59EG-5X3Mz",
        "colab_type": "code",
        "colab": {
          "base_uri": "https://localhost:8080/",
          "height": 204
        },
        "outputId": "e5edc79b-fded-4fbc-bb48-545143a4808a"
      },
      "source": [
        "song_df.head()"
      ],
      "execution_count": 10,
      "outputs": [
        {
          "output_type": "execute_result",
          "data": {
            "text/html": [
              "<div>\n",
              "<style scoped>\n",
              "    .dataframe tbody tr th:only-of-type {\n",
              "        vertical-align: middle;\n",
              "    }\n",
              "\n",
              "    .dataframe tbody tr th {\n",
              "        vertical-align: top;\n",
              "    }\n",
              "\n",
              "    .dataframe thead th {\n",
              "        text-align: right;\n",
              "    }\n",
              "</style>\n",
              "<table border=\"1\" class=\"dataframe\">\n",
              "  <thead>\n",
              "    <tr style=\"text-align: right;\">\n",
              "      <th></th>\n",
              "      <th>user_id</th>\n",
              "      <th>song_id</th>\n",
              "      <th>listen_count</th>\n",
              "      <th>title</th>\n",
              "      <th>release</th>\n",
              "      <th>artist_name</th>\n",
              "      <th>year</th>\n",
              "    </tr>\n",
              "  </thead>\n",
              "  <tbody>\n",
              "    <tr>\n",
              "      <th>0</th>\n",
              "      <td>b80344d063b5ccb3212f76538f3d9e43d87dca9e</td>\n",
              "      <td>SOAKIMP12A8C130995</td>\n",
              "      <td>1</td>\n",
              "      <td>The Cove</td>\n",
              "      <td>Thicker Than Water</td>\n",
              "      <td>Jack Johnson</td>\n",
              "      <td>0</td>\n",
              "    </tr>\n",
              "    <tr>\n",
              "      <th>1</th>\n",
              "      <td>b80344d063b5ccb3212f76538f3d9e43d87dca9e</td>\n",
              "      <td>SOBBMDR12A8C13253B</td>\n",
              "      <td>2</td>\n",
              "      <td>Entre Dos Aguas</td>\n",
              "      <td>Flamenco Para Niños</td>\n",
              "      <td>Paco De Lucia</td>\n",
              "      <td>1976</td>\n",
              "    </tr>\n",
              "    <tr>\n",
              "      <th>2</th>\n",
              "      <td>b80344d063b5ccb3212f76538f3d9e43d87dca9e</td>\n",
              "      <td>SOBXHDL12A81C204C0</td>\n",
              "      <td>1</td>\n",
              "      <td>Stronger</td>\n",
              "      <td>Graduation</td>\n",
              "      <td>Kanye West</td>\n",
              "      <td>2007</td>\n",
              "    </tr>\n",
              "    <tr>\n",
              "      <th>3</th>\n",
              "      <td>b80344d063b5ccb3212f76538f3d9e43d87dca9e</td>\n",
              "      <td>SOBYHAJ12A6701BF1D</td>\n",
              "      <td>1</td>\n",
              "      <td>Constellations</td>\n",
              "      <td>In Between Dreams</td>\n",
              "      <td>Jack Johnson</td>\n",
              "      <td>2005</td>\n",
              "    </tr>\n",
              "    <tr>\n",
              "      <th>4</th>\n",
              "      <td>b80344d063b5ccb3212f76538f3d9e43d87dca9e</td>\n",
              "      <td>SODACBL12A8C13C273</td>\n",
              "      <td>1</td>\n",
              "      <td>Learn To Fly</td>\n",
              "      <td>There Is Nothing Left To Lose</td>\n",
              "      <td>Foo Fighters</td>\n",
              "      <td>1999</td>\n",
              "    </tr>\n",
              "  </tbody>\n",
              "</table>\n",
              "</div>"
            ],
            "text/plain": [
              "                                    user_id  ...  year\n",
              "0  b80344d063b5ccb3212f76538f3d9e43d87dca9e  ...     0\n",
              "1  b80344d063b5ccb3212f76538f3d9e43d87dca9e  ...  1976\n",
              "2  b80344d063b5ccb3212f76538f3d9e43d87dca9e  ...  2007\n",
              "3  b80344d063b5ccb3212f76538f3d9e43d87dca9e  ...  2005\n",
              "4  b80344d063b5ccb3212f76538f3d9e43d87dca9e  ...  1999\n",
              "\n",
              "[5 rows x 7 columns]"
            ]
          },
          "metadata": {
            "tags": []
          },
          "execution_count": 10
        }
      ]
    },
    {
      "cell_type": "code",
      "metadata": {
        "id": "GjOmgEvuX3Kh",
        "colab_type": "code",
        "colab": {
          "base_uri": "https://localhost:8080/",
          "height": 34
        },
        "outputId": "91b96ea6-fdbf-425a-817d-3dfd869d134f"
      },
      "source": [
        "len(song_df)"
      ],
      "execution_count": 11,
      "outputs": [
        {
          "output_type": "execute_result",
          "data": {
            "text/plain": [
              "2000000"
            ]
          },
          "metadata": {
            "tags": []
          },
          "execution_count": 11
        }
      ]
    },
    {
      "cell_type": "code",
      "metadata": {
        "id": "dtbYRuwSTAJB",
        "colab_type": "code",
        "colab": {}
      },
      "source": [
        "users = song_df['user_id'].unique()"
      ],
      "execution_count": 12,
      "outputs": []
    },
    {
      "cell_type": "code",
      "metadata": {
        "id": "YL1N2Jz7TAFe",
        "colab_type": "code",
        "colab": {
          "base_uri": "https://localhost:8080/",
          "height": 34
        },
        "outputId": "4e71f630-bcad-4bf8-d787-3b89eefc10b0"
      },
      "source": [
        "\n",
        "len(users)"
      ],
      "execution_count": 13,
      "outputs": [
        {
          "output_type": "execute_result",
          "data": {
            "text/plain": [
              "76353"
            ]
          },
          "metadata": {
            "tags": []
          },
          "execution_count": 13
        }
      ]
    },
    {
      "cell_type": "markdown",
      "metadata": {
        "id": "cf4HzwsgKMlg",
        "colab_type": "text"
      },
      "source": [
        "Create a subset of the dataset"
      ]
    },
    {
      "cell_type": "code",
      "metadata": {
        "id": "s61wKQXaX3I0",
        "colab_type": "code",
        "colab": {}
      },
      "source": [
        "song_df = song_df.head(10000)"
      ],
      "execution_count": 14,
      "outputs": []
    },
    {
      "cell_type": "markdown",
      "metadata": {
        "id": "Gj0TiD3fOALF",
        "colab_type": "text"
      },
      "source": [
        "Data Visualization"
      ]
    },
    {
      "cell_type": "code",
      "metadata": {
        "id": "YNag_lDNUyfm",
        "colab_type": "code",
        "colab": {
          "base_uri": "https://localhost:8080/",
          "height": 71
        },
        "outputId": "366705d2-50d5-43d0-9e97-c3eb632a04be"
      },
      "source": [
        "import matplotlib.pyplot as plt\n",
        "import seaborn as sns\n",
        "%matplotlib inline"
      ],
      "execution_count": 15,
      "outputs": [
        {
          "output_type": "stream",
          "text": [
            "/usr/local/lib/python3.6/dist-packages/statsmodels/tools/_testing.py:19: FutureWarning: pandas.util.testing is deprecated. Use the functions in the public API at pandas.testing instead.\n",
            "  import pandas.util.testing as tm\n"
          ],
          "name": "stderr"
        }
      ]
    },
    {
      "cell_type": "code",
      "metadata": {
        "id": "uPSA_PLSavX3",
        "colab_type": "code",
        "colab": {}
      },
      "source": [
        "sns.set_style('dark')"
      ],
      "execution_count": 16,
      "outputs": []
    },
    {
      "cell_type": "code",
      "metadata": {
        "id": "geZb63SlavcC",
        "colab_type": "code",
        "colab": {
          "base_uri": "https://localhost:8080/",
          "height": 221
        },
        "outputId": "19fe3f1c-0192-49fb-a9fc-5e3cb43acdc7"
      },
      "source": [
        "song_df.groupby('title')['listen_count'].mean().sort_values(ascending=False).head(10)"
      ],
      "execution_count": 17,
      "outputs": [
        {
          "output_type": "execute_result",
          "data": {
            "text/plain": [
              "title\n",
              "Waiting For A Dream                      247.0\n",
              "Times                                    140.0\n",
              "I C Love Affair                           77.0\n",
              "El Cuatrero                               74.0\n",
              "How Am I Supposed To Live Without You     69.0\n",
              "We Have A Map Of The Piano                62.0\n",
              "Quutamo                                   60.0\n",
              "Salt Water Sound                          45.0\n",
              "3 Rounds and a Sound                      41.0\n",
              "The Killing Moon                          40.0\n",
              "Name: listen_count, dtype: float64"
            ]
          },
          "metadata": {
            "tags": []
          },
          "execution_count": 17
        }
      ]
    },
    {
      "cell_type": "code",
      "metadata": {
        "id": "9I4yQfveavks",
        "colab_type": "code",
        "colab": {}
      },
      "source": [
        "listen_counts=pd.DataFrame(song_df.groupby('title')['listen_count'].mean())"
      ],
      "execution_count": 18,
      "outputs": []
    },
    {
      "cell_type": "code",
      "metadata": {
        "id": "01SohX56aviW",
        "colab_type": "code",
        "colab": {
          "base_uri": "https://localhost:8080/",
          "height": 235
        },
        "outputId": "b12db58b-21c5-46b8-e695-97d0d1c5d032"
      },
      "source": [
        "listen_counts.head()"
      ],
      "execution_count": 19,
      "outputs": [
        {
          "output_type": "execute_result",
          "data": {
            "text/html": [
              "<div>\n",
              "<style scoped>\n",
              "    .dataframe tbody tr th:only-of-type {\n",
              "        vertical-align: middle;\n",
              "    }\n",
              "\n",
              "    .dataframe tbody tr th {\n",
              "        vertical-align: top;\n",
              "    }\n",
              "\n",
              "    .dataframe thead th {\n",
              "        text-align: right;\n",
              "    }\n",
              "</style>\n",
              "<table border=\"1\" class=\"dataframe\">\n",
              "  <thead>\n",
              "    <tr style=\"text-align: right;\">\n",
              "      <th></th>\n",
              "      <th>listen_count</th>\n",
              "    </tr>\n",
              "    <tr>\n",
              "      <th>title</th>\n",
              "      <th></th>\n",
              "    </tr>\n",
              "  </thead>\n",
              "  <tbody>\n",
              "    <tr>\n",
              "      <th>#40</th>\n",
              "      <td>1.000000</td>\n",
              "    </tr>\n",
              "    <tr>\n",
              "      <th>&amp; Down</th>\n",
              "      <td>5.000000</td>\n",
              "    </tr>\n",
              "    <tr>\n",
              "      <th>'97 Bonnie &amp; Clyde</th>\n",
              "      <td>1.000000</td>\n",
              "    </tr>\n",
              "    <tr>\n",
              "      <th>'Round Midnight</th>\n",
              "      <td>1.000000</td>\n",
              "    </tr>\n",
              "    <tr>\n",
              "      <th>'Till I Collapse</th>\n",
              "      <td>7.333333</td>\n",
              "    </tr>\n",
              "  </tbody>\n",
              "</table>\n",
              "</div>"
            ],
            "text/plain": [
              "                    listen_count\n",
              "title                           \n",
              "#40                     1.000000\n",
              "& Down                  5.000000\n",
              "'97 Bonnie & Clyde      1.000000\n",
              "'Round Midnight         1.000000\n",
              "'Till I Collapse        7.333333"
            ]
          },
          "metadata": {
            "tags": []
          },
          "execution_count": 19
        }
      ]
    },
    {
      "cell_type": "code",
      "metadata": {
        "id": "hQzBlkiUZe6V",
        "colab_type": "code",
        "colab": {}
      },
      "source": [
        "listen_counts['listen_count_numbers'] = pd.DataFrame(song_df.groupby('title')['listen_count'].count())"
      ],
      "execution_count": 20,
      "outputs": []
    },
    {
      "cell_type": "code",
      "metadata": {
        "id": "0J5fP8OUZe9l",
        "colab_type": "code",
        "colab": {
          "base_uri": "https://localhost:8080/",
          "height": 235
        },
        "outputId": "8d6d9ade-bf11-4f7d-918e-c02f0ce59c14"
      },
      "source": [
        "listen_counts.head()"
      ],
      "execution_count": 21,
      "outputs": [
        {
          "output_type": "execute_result",
          "data": {
            "text/html": [
              "<div>\n",
              "<style scoped>\n",
              "    .dataframe tbody tr th:only-of-type {\n",
              "        vertical-align: middle;\n",
              "    }\n",
              "\n",
              "    .dataframe tbody tr th {\n",
              "        vertical-align: top;\n",
              "    }\n",
              "\n",
              "    .dataframe thead th {\n",
              "        text-align: right;\n",
              "    }\n",
              "</style>\n",
              "<table border=\"1\" class=\"dataframe\">\n",
              "  <thead>\n",
              "    <tr style=\"text-align: right;\">\n",
              "      <th></th>\n",
              "      <th>listen_count</th>\n",
              "      <th>listen_count_numbers</th>\n",
              "    </tr>\n",
              "    <tr>\n",
              "      <th>title</th>\n",
              "      <th></th>\n",
              "      <th></th>\n",
              "    </tr>\n",
              "  </thead>\n",
              "  <tbody>\n",
              "    <tr>\n",
              "      <th>#40</th>\n",
              "      <td>1.000000</td>\n",
              "      <td>1</td>\n",
              "    </tr>\n",
              "    <tr>\n",
              "      <th>&amp; Down</th>\n",
              "      <td>5.000000</td>\n",
              "      <td>4</td>\n",
              "    </tr>\n",
              "    <tr>\n",
              "      <th>'97 Bonnie &amp; Clyde</th>\n",
              "      <td>1.000000</td>\n",
              "      <td>2</td>\n",
              "    </tr>\n",
              "    <tr>\n",
              "      <th>'Round Midnight</th>\n",
              "      <td>1.000000</td>\n",
              "      <td>3</td>\n",
              "    </tr>\n",
              "    <tr>\n",
              "      <th>'Till I Collapse</th>\n",
              "      <td>7.333333</td>\n",
              "      <td>6</td>\n",
              "    </tr>\n",
              "  </tbody>\n",
              "</table>\n",
              "</div>"
            ],
            "text/plain": [
              "                    listen_count  listen_count_numbers\n",
              "title                                                 \n",
              "#40                     1.000000                     1\n",
              "& Down                  5.000000                     4\n",
              "'97 Bonnie & Clyde      1.000000                     2\n",
              "'Round Midnight         1.000000                     3\n",
              "'Till I Collapse        7.333333                     6"
            ]
          },
          "metadata": {
            "tags": []
          },
          "execution_count": 21
        }
      ]
    },
    {
      "cell_type": "code",
      "metadata": {
        "id": "x2unQdGcvx4s",
        "colab_type": "code",
        "colab": {
          "base_uri": "https://localhost:8080/",
          "height": 297
        },
        "outputId": "f84ffabb-7544-427e-e079-4e2acc412927"
      },
      "source": [
        "song_df.describe()"
      ],
      "execution_count": 22,
      "outputs": [
        {
          "output_type": "execute_result",
          "data": {
            "text/html": [
              "<div>\n",
              "<style scoped>\n",
              "    .dataframe tbody tr th:only-of-type {\n",
              "        vertical-align: middle;\n",
              "    }\n",
              "\n",
              "    .dataframe tbody tr th {\n",
              "        vertical-align: top;\n",
              "    }\n",
              "\n",
              "    .dataframe thead th {\n",
              "        text-align: right;\n",
              "    }\n",
              "</style>\n",
              "<table border=\"1\" class=\"dataframe\">\n",
              "  <thead>\n",
              "    <tr style=\"text-align: right;\">\n",
              "      <th></th>\n",
              "      <th>listen_count</th>\n",
              "      <th>year</th>\n",
              "    </tr>\n",
              "  </thead>\n",
              "  <tbody>\n",
              "    <tr>\n",
              "      <th>count</th>\n",
              "      <td>10000.000000</td>\n",
              "      <td>10000.000000</td>\n",
              "    </tr>\n",
              "    <tr>\n",
              "      <th>mean</th>\n",
              "      <td>2.991100</td>\n",
              "      <td>1662.383300</td>\n",
              "    </tr>\n",
              "    <tr>\n",
              "      <th>std</th>\n",
              "      <td>5.915177</td>\n",
              "      <td>751.095133</td>\n",
              "    </tr>\n",
              "    <tr>\n",
              "      <th>min</th>\n",
              "      <td>1.000000</td>\n",
              "      <td>0.000000</td>\n",
              "    </tr>\n",
              "    <tr>\n",
              "      <th>25%</th>\n",
              "      <td>1.000000</td>\n",
              "      <td>1988.000000</td>\n",
              "    </tr>\n",
              "    <tr>\n",
              "      <th>50%</th>\n",
              "      <td>1.000000</td>\n",
              "      <td>2003.000000</td>\n",
              "    </tr>\n",
              "    <tr>\n",
              "      <th>75%</th>\n",
              "      <td>3.000000</td>\n",
              "      <td>2007.000000</td>\n",
              "    </tr>\n",
              "    <tr>\n",
              "      <th>max</th>\n",
              "      <td>247.000000</td>\n",
              "      <td>2010.000000</td>\n",
              "    </tr>\n",
              "  </tbody>\n",
              "</table>\n",
              "</div>"
            ],
            "text/plain": [
              "       listen_count          year\n",
              "count  10000.000000  10000.000000\n",
              "mean       2.991100   1662.383300\n",
              "std        5.915177    751.095133\n",
              "min        1.000000      0.000000\n",
              "25%        1.000000   1988.000000\n",
              "50%        1.000000   2003.000000\n",
              "75%        3.000000   2007.000000\n",
              "max      247.000000   2010.000000"
            ]
          },
          "metadata": {
            "tags": []
          },
          "execution_count": 22
        }
      ]
    },
    {
      "cell_type": "code",
      "metadata": {
        "id": "g8VwTWH8v0c1",
        "colab_type": "code",
        "colab": {
          "base_uri": "https://localhost:8080/",
          "height": 255
        },
        "outputId": "5e9729ff-def5-4a59-8eaf-c9e4edf3a451"
      },
      "source": [
        "song_df.info()"
      ],
      "execution_count": 23,
      "outputs": [
        {
          "output_type": "stream",
          "text": [
            "<class 'pandas.core.frame.DataFrame'>\n",
            "Int64Index: 10000 entries, 0 to 9999\n",
            "Data columns (total 7 columns):\n",
            " #   Column        Non-Null Count  Dtype \n",
            "---  ------        --------------  ----- \n",
            " 0   user_id       10000 non-null  object\n",
            " 1   song_id       10000 non-null  object\n",
            " 2   listen_count  10000 non-null  int64 \n",
            " 3   title         10000 non-null  object\n",
            " 4   release       10000 non-null  object\n",
            " 5   artist_name   10000 non-null  object\n",
            " 6   year          10000 non-null  int64 \n",
            "dtypes: int64(2), object(5)\n",
            "memory usage: 625.0+ KB\n"
          ],
          "name": "stdout"
        }
      ]
    },
    {
      "cell_type": "code",
      "metadata": {
        "id": "BvLdODdwxiTZ",
        "colab_type": "code",
        "colab": {
          "base_uri": "https://localhost:8080/",
          "height": 153
        },
        "outputId": "477d3953-2ecf-4244-e988-559d91130211"
      },
      "source": [
        "song_df.isnull().sum()"
      ],
      "execution_count": 24,
      "outputs": [
        {
          "output_type": "execute_result",
          "data": {
            "text/plain": [
              "user_id         0\n",
              "song_id         0\n",
              "listen_count    0\n",
              "title           0\n",
              "release         0\n",
              "artist_name     0\n",
              "year            0\n",
              "dtype: int64"
            ]
          },
          "metadata": {
            "tags": []
          },
          "execution_count": 24
        }
      ]
    },
    {
      "cell_type": "code",
      "metadata": {
        "id": "oSARskn-xi7e",
        "colab_type": "code",
        "colab": {
          "base_uri": "https://localhost:8080/",
          "height": 111
        },
        "outputId": "40b0c29c-be89-461a-e1ad-36c49f2302eb"
      },
      "source": [
        "song_df.corr()"
      ],
      "execution_count": 25,
      "outputs": [
        {
          "output_type": "execute_result",
          "data": {
            "text/html": [
              "<div>\n",
              "<style scoped>\n",
              "    .dataframe tbody tr th:only-of-type {\n",
              "        vertical-align: middle;\n",
              "    }\n",
              "\n",
              "    .dataframe tbody tr th {\n",
              "        vertical-align: top;\n",
              "    }\n",
              "\n",
              "    .dataframe thead th {\n",
              "        text-align: right;\n",
              "    }\n",
              "</style>\n",
              "<table border=\"1\" class=\"dataframe\">\n",
              "  <thead>\n",
              "    <tr style=\"text-align: right;\">\n",
              "      <th></th>\n",
              "      <th>listen_count</th>\n",
              "      <th>year</th>\n",
              "    </tr>\n",
              "  </thead>\n",
              "  <tbody>\n",
              "    <tr>\n",
              "      <th>listen_count</th>\n",
              "      <td>1.000000</td>\n",
              "      <td>-0.017674</td>\n",
              "    </tr>\n",
              "    <tr>\n",
              "      <th>year</th>\n",
              "      <td>-0.017674</td>\n",
              "      <td>1.000000</td>\n",
              "    </tr>\n",
              "  </tbody>\n",
              "</table>\n",
              "</div>"
            ],
            "text/plain": [
              "              listen_count      year\n",
              "listen_count      1.000000 -0.017674\n",
              "year             -0.017674  1.000000"
            ]
          },
          "metadata": {
            "tags": []
          },
          "execution_count": 25
        }
      ]
    },
    {
      "cell_type": "code",
      "metadata": {
        "id": "S3h29QoZxi5X",
        "colab_type": "code",
        "colab": {
          "base_uri": "https://localhost:8080/",
          "height": 287
        },
        "outputId": "b450be97-9de2-475a-fc01-62cc5511043f"
      },
      "source": [
        "sns.heatmap(song_df.corr(), annot=True, fmt='.2f')"
      ],
      "execution_count": 26,
      "outputs": [
        {
          "output_type": "execute_result",
          "data": {
            "text/plain": [
              "<matplotlib.axes._subplots.AxesSubplot at 0x7faf89ff1080>"
            ]
          },
          "metadata": {
            "tags": []
          },
          "execution_count": 26
        },
        {
          "output_type": "display_data",
          "data": {
            "image/png": "[encoded data removed]",
            "text/plain": [
              "<Figure size 432x288 with 2 Axes>"
            ]
          },
          "metadata": {
            "tags": []
          }
        }
      ]
    },
    {
      "cell_type": "markdown",
      "metadata": {
        "id": "IX07ISbbavgp",
        "colab_type": "text"
      },
      "source": [
        "user_id = users[5]\n",
        "\n"
      ]
    },
    {
      "cell_type": "code",
      "metadata": {
        "id": "jigV7jlcZfMs",
        "colab_type": "code",
        "colab": {
          "base_uri": "https://localhost:8080/",
          "height": 282
        },
        "outputId": "c5a02270-04cb-4812-9065-fa29bf6522dc"
      },
      "source": [
        "listen_counts['listen_count'].hist(bins=70)\n"
      ],
      "execution_count": 27,
      "outputs": [
        {
          "output_type": "execute_result",
          "data": {
            "text/plain": [
              "<matplotlib.axes._subplots.AxesSubplot at 0x7faf8626d5f8>"
            ]
          },
          "metadata": {
            "tags": []
          },
          "execution_count": 27
        },
        {
          "output_type": "display_data",
          "data": {
            "image/png": "[encoded data removed]",
            "text/plain": [
              "<Figure size 432x288 with 1 Axes>"
            ]
          },
          "metadata": {
            "tags": []
          }
        }
      ]
    },
    {
      "cell_type": "code",
      "metadata": {
        "id": "4WugmyJFZfKS",
        "colab_type": "code",
        "colab": {
          "base_uri": "https://localhost:8080/",
          "height": 458
        },
        "outputId": "3353c282-3c06-4d00-a5f6-2c298dde458f"
      },
      "source": [
        "sns.jointplot(x='listen_count', y='listen_count_numbers', data=listen_counts, alpha=0.5)"
      ],
      "execution_count": 28,
      "outputs": [
        {
          "output_type": "execute_result",
          "data": {
            "text/plain": [
              "<seaborn.axisgrid.JointGrid at 0x7faf8a256c88>"
            ]
          },
          "metadata": {
            "tags": []
          },
          "execution_count": 28
        },
        {
          "output_type": "display_data",
          "data": {
            "image/png": "[encoded data removed]",
            "text/plain": [
              "<Figure size 432x432 with 3 Axes>"
            ]
          },
          "metadata": {
            "tags": []
          }
        }
      ]
    },
    {
      "cell_type": "code",
      "metadata": {
        "id": "CR_c8RPIbaFf",
        "colab_type": "code",
        "colab": {}
      },
      "source": [
        "song_df['song'] = song_df['title'].map(str) + \" - \" + song_df['artist_name']"
      ],
      "execution_count": 29,
      "outputs": []
    },
    {
      "cell_type": "code",
      "metadata": {
        "id": "RL1BhoQvbaLn",
        "colab_type": "code",
        "colab": {}
      },
      "source": [
        "song_grouped = song_df.groupby(['song']).agg({'listen_count': 'count'}).reset_index()"
      ],
      "execution_count": 30,
      "outputs": []
    },
    {
      "cell_type": "code",
      "metadata": {
        "id": "g8GZGglsbaPz",
        "colab_type": "code",
        "colab": {}
      },
      "source": [
        "grouped_sum = song_grouped['listen_count'].sum()"
      ],
      "execution_count": 31,
      "outputs": []
    },
    {
      "cell_type": "code",
      "metadata": {
        "id": "jGzNRnKUbabi",
        "colab_type": "code",
        "colab": {}
      },
      "source": [
        "song_grouped['percentage']  = song_grouped['listen_count'].div(grouped_sum)*100"
      ],
      "execution_count": 32,
      "outputs": []
    },
    {
      "cell_type": "code",
      "metadata": {
        "id": "OWDNwwSxbahK",
        "colab_type": "code",
        "colab": {
          "base_uri": "https://localhost:8080/",
          "height": 419
        },
        "outputId": "6c726911-73b7-4a63-9bf7-7f15c125b554"
      },
      "source": [
        "song_grouped.sort_values(['listen_count', 'song'], ascending = [0,1])"
      ],
      "execution_count": 33,
      "outputs": [
        {
          "output_type": "execute_result",
          "data": {
            "text/html": [
              "<div>\n",
              "<style scoped>\n",
              "    .dataframe tbody tr th:only-of-type {\n",
              "        vertical-align: middle;\n",
              "    }\n",
              "\n",
              "    .dataframe tbody tr th {\n",
              "        vertical-align: top;\n",
              "    }\n",
              "\n",
              "    .dataframe thead th {\n",
              "        text-align: right;\n",
              "    }\n",
              "</style>\n",
              "<table border=\"1\" class=\"dataframe\">\n",
              "  <thead>\n",
              "    <tr style=\"text-align: right;\">\n",
              "      <th></th>\n",
              "      <th>song</th>\n",
              "      <th>listen_count</th>\n",
              "      <th>percentage</th>\n",
              "    </tr>\n",
              "  </thead>\n",
              "  <tbody>\n",
              "    <tr>\n",
              "      <th>3660</th>\n",
              "      <td>Sehr kosmisch - Harmonia</td>\n",
              "      <td>45</td>\n",
              "      <td>0.45</td>\n",
              "    </tr>\n",
              "    <tr>\n",
              "      <th>4678</th>\n",
              "      <td>Undo - Björk</td>\n",
              "      <td>32</td>\n",
              "      <td>0.32</td>\n",
              "    </tr>\n",
              "    <tr>\n",
              "      <th>5105</th>\n",
              "      <td>You're The One - Dwight Yoakam</td>\n",
              "      <td>32</td>\n",
              "      <td>0.32</td>\n",
              "    </tr>\n",
              "    <tr>\n",
              "      <th>1071</th>\n",
              "      <td>Dog Days Are Over (Radio Edit) - Florence + Th...</td>\n",
              "      <td>28</td>\n",
              "      <td>0.28</td>\n",
              "    </tr>\n",
              "    <tr>\n",
              "      <th>3655</th>\n",
              "      <td>Secrets - OneRepublic</td>\n",
              "      <td>28</td>\n",
              "      <td>0.28</td>\n",
              "    </tr>\n",
              "    <tr>\n",
              "      <th>...</th>\n",
              "      <td>...</td>\n",
              "      <td>...</td>\n",
              "      <td>...</td>\n",
              "    </tr>\n",
              "    <tr>\n",
              "      <th>5139</th>\n",
              "      <td>high fives - Four Tet</td>\n",
              "      <td>1</td>\n",
              "      <td>0.01</td>\n",
              "    </tr>\n",
              "    <tr>\n",
              "      <th>5140</th>\n",
              "      <td>in white rooms - Booka Shade</td>\n",
              "      <td>1</td>\n",
              "      <td>0.01</td>\n",
              "    </tr>\n",
              "    <tr>\n",
              "      <th>5143</th>\n",
              "      <td>paranoid android - Christopher O'Riley</td>\n",
              "      <td>1</td>\n",
              "      <td>0.01</td>\n",
              "    </tr>\n",
              "    <tr>\n",
              "      <th>5149</th>\n",
              "      <td>¿Lo Ves? [Piano Y Voz] - Alejandro Sanz</td>\n",
              "      <td>1</td>\n",
              "      <td>0.01</td>\n",
              "    </tr>\n",
              "    <tr>\n",
              "      <th>5150</th>\n",
              "      <td>Época - Gotan Project</td>\n",
              "      <td>1</td>\n",
              "      <td>0.01</td>\n",
              "    </tr>\n",
              "  </tbody>\n",
              "</table>\n",
              "<p>5151 rows × 3 columns</p>\n",
              "</div>"
            ],
            "text/plain": [
              "                                                   song  ...  percentage\n",
              "3660                           Sehr kosmisch - Harmonia  ...        0.45\n",
              "4678                                       Undo - Björk  ...        0.32\n",
              "5105                     You're The One - Dwight Yoakam  ...        0.32\n",
              "1071  Dog Days Are Over (Radio Edit) - Florence + Th...  ...        0.28\n",
              "3655                              Secrets - OneRepublic  ...        0.28\n",
              "...                                                 ...  ...         ...\n",
              "5139                              high fives - Four Tet  ...        0.01\n",
              "5140                       in white rooms - Booka Shade  ...        0.01\n",
              "5143             paranoid android - Christopher O'Riley  ...        0.01\n",
              "5149            ¿Lo Ves? [Piano Y Voz] - Alejandro Sanz  ...        0.01\n",
              "5150                              Época - Gotan Project  ...        0.01\n",
              "\n",
              "[5151 rows x 3 columns]"
            ]
          },
          "metadata": {
            "tags": []
          },
          "execution_count": 33
        }
      ]
    },
    {
      "cell_type": "code",
      "metadata": {
        "id": "ly-bxVxVuOqL",
        "colab_type": "code",
        "colab": {
          "base_uri": "https://localhost:8080/",
          "height": 34
        },
        "outputId": "fd1de510-a654-4638-bce9-5162db31dc8b"
      },
      "source": [
        "songs = song_df['song'].unique()\n",
        "len(songs)"
      ],
      "execution_count": 34,
      "outputs": [
        {
          "output_type": "execute_result",
          "data": {
            "text/plain": [
              "5151"
            ]
          },
          "metadata": {
            "tags": []
          },
          "execution_count": 34
        }
      ]
    },
    {
      "cell_type": "markdown",
      "metadata": {
        "id": "ltMiOv5iNzMc",
        "colab_type": "text"
      },
      "source": [
        "Building the Models-Popularity based and Similarity based"
      ]
    },
    {
      "cell_type": "code",
      "metadata": {
        "id": "AVusfRikbaYw",
        "colab_type": "code",
        "colab": {}
      },
      "source": [
        "#train and testing\n",
        "from sklearn.model_selection import train_test_split"
      ],
      "execution_count": 35,
      "outputs": []
    },
    {
      "cell_type": "code",
      "metadata": {
        "id": "joJwLKOqbaWI",
        "colab_type": "code",
        "colab": {}
      },
      "source": [
        "train_data, test_data = train_test_split(song_df, test_size = 0.50, random_state=0)"
      ],
      "execution_count": 36,
      "outputs": []
    },
    {
      "cell_type": "code",
      "metadata": {
        "id": "NiCBBz4TbaUx",
        "colab_type": "code",
        "colab": {
          "base_uri": "https://localhost:8080/",
          "height": 153
        },
        "outputId": "531c08d7-962b-4c8c-a4ae-6d4763bbc73f"
      },
      "source": [
        "print(train_data.head(5))"
      ],
      "execution_count": 37,
      "outputs": [
        {
          "output_type": "stream",
          "text": [
            "                                       user_id  ...                                         song\n",
            "333   d6589314c0a9bcbca4fee0c93b14bc402363afea  ...       Ghosts and Roses - Stephane Pompougnac\n",
            "6391  7dd192c8bd4f27f573cb15e8656442aadd7a9c01  ...                 Black Hole Sun - Soundgarden\n",
            "4786  85952991b8e3ca5803a08b0b2f9c6d71abf9bb5b  ...            Una Música Brutal - Gotan Project\n",
            "357   5a905f000fc1ff3df7ca807d57edb608863db05d  ...                        Tchaparian - Hot Chip\n",
            "9854  b4e93ce145d511946e444cbd22c090b78735c99f  ...  Jamaica Roots II(Agora E Sempre) - Natiruts\n",
            "\n",
            "[5 rows x 8 columns]\n"
          ],
          "name": "stdout"
        }
      ]
    },
    {
      "cell_type": "code",
      "metadata": {
        "id": "MoXJ6YyKbaJ3",
        "colab_type": "code",
        "colab": {
          "resources": {
            "http://localhost:8080/nbextensions/google.colab/files.js": {
              "data": "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",
              "ok": true,
              "headers": [
                [
                  "content-type",
                  "application/javascript"
                ]
              ],
              "status": 200,
              "status_text": ""
            }
          },
          "base_uri": "https://localhost:8080/",
          "height": 72
        },
        "outputId": "529594ac-290f-4506-ed82-020af416a777"
      },
      "source": [
        "\n",
        "from google.colab import files\n",
        "src = list(files.upload().values())[0]\n",
        "open('reco2.py','wb').write(src)\n",
        "import reco2"
      ],
      "execution_count": 38,
      "outputs": [
        {
          "output_type": "display_data",
          "data": {
            "text/html": [
              "\n",
              "     <input type=\"file\" id=\"files-3f1bd6b1-6bc8-4a59-b006-ee069c60f71e\" name=\"files[]\" multiple disabled\n",
              "        style=\"border:none\" />\n",
              "     <output id=\"result-3f1bd6b1-6bc8-4a59-b006-ee069c60f71e\">\n",
              "      Upload widget is only available when the cell has been executed in the\n",
              "      current browser session. Please rerun this cell to enable.\n",
              "      </output>\n",
              "      <script src=\"/nbextensions/google.colab/files.js\"></script> "
            ],
            "text/plain": [
              "<IPython.core.display.HTML object>"
            ]
          },
          "metadata": {
            "tags": []
          }
        },
        {
          "output_type": "stream",
          "text": [
            "Saving reco2_py.py to reco2_py.py\n"
          ],
          "name": "stdout"
        }
      ]
    },
    {
      "cell_type": "code",
      "metadata": {
        "id": "acglvZgVRlIL",
        "colab_type": "code",
        "colab": {}
      },
      "source": [
        "import reco2 as Recommenders"
      ],
      "execution_count": 39,
      "outputs": []
    },
    {
      "cell_type": "code",
      "metadata": {
        "id": "HcpYYY3vZe4x",
        "colab_type": "code",
        "colab": {}
      },
      "source": [
        "pm = Recommenders.popularity_recommender_py()"
      ],
      "execution_count": 40,
      "outputs": []
    },
    {
      "cell_type": "code",
      "metadata": {
        "id": "0AXb_7FkZe0P",
        "colab_type": "code",
        "colab": {}
      },
      "source": [
        "pm.create(train_data, 'user_id', 'song')"
      ],
      "execution_count": 41,
      "outputs": []
    },
    {
      "cell_type": "code",
      "metadata": {
        "id": "kafBkg6YUhFT",
        "colab_type": "code",
        "colab": {
          "base_uri": "https://localhost:8080/",
          "height": 359
        },
        "outputId": "55bc74a9-a2bf-4315-9061-5a877c907904"
      },
      "source": [
        "user_id = users[5]\n",
        "\n",
        "pm.recommend(user_id)"
      ],
      "execution_count": 42,
      "outputs": [
        {
          "output_type": "execute_result",
          "data": {
            "text/html": [
              "<div>\n",
              "<style scoped>\n",
              "    .dataframe tbody tr th:only-of-type {\n",
              "        vertical-align: middle;\n",
              "    }\n",
              "\n",
              "    .dataframe tbody tr th {\n",
              "        vertical-align: top;\n",
              "    }\n",
              "\n",
              "    .dataframe thead th {\n",
              "        text-align: right;\n",
              "    }\n",
              "</style>\n",
              "<table border=\"1\" class=\"dataframe\">\n",
              "  <thead>\n",
              "    <tr style=\"text-align: right;\">\n",
              "      <th></th>\n",
              "      <th>user_id</th>\n",
              "      <th>song</th>\n",
              "      <th>score</th>\n",
              "      <th>Rank</th>\n",
              "    </tr>\n",
              "  </thead>\n",
              "  <tbody>\n",
              "    <tr>\n",
              "      <th>2352</th>\n",
              "      <td>4bd88bfb25263a75bbdd467e74018f4ae570e5df</td>\n",
              "      <td>Sehr kosmisch - Harmonia</td>\n",
              "      <td>22</td>\n",
              "      <td>1.0</td>\n",
              "    </tr>\n",
              "    <tr>\n",
              "      <th>2999</th>\n",
              "      <td>4bd88bfb25263a75bbdd467e74018f4ae570e5df</td>\n",
              "      <td>Undo - Björk</td>\n",
              "      <td>19</td>\n",
              "      <td>2.0</td>\n",
              "    </tr>\n",
              "    <tr>\n",
              "      <th>3268</th>\n",
              "      <td>4bd88bfb25263a75bbdd467e74018f4ae570e5df</td>\n",
              "      <td>You're The One - Dwight Yoakam</td>\n",
              "      <td>16</td>\n",
              "      <td>3.0</td>\n",
              "    </tr>\n",
              "    <tr>\n",
              "      <th>665</th>\n",
              "      <td>4bd88bfb25263a75bbdd467e74018f4ae570e5df</td>\n",
              "      <td>Dog Days Are Over (Radio Edit) - Florence + Th...</td>\n",
              "      <td>15</td>\n",
              "      <td>4.0</td>\n",
              "    </tr>\n",
              "    <tr>\n",
              "      <th>1716</th>\n",
              "      <td>4bd88bfb25263a75bbdd467e74018f4ae570e5df</td>\n",
              "      <td>Marry Me - Train</td>\n",
              "      <td>14</td>\n",
              "      <td>5.0</td>\n",
              "    </tr>\n",
              "    <tr>\n",
              "      <th>1958</th>\n",
              "      <td>4bd88bfb25263a75bbdd467e74018f4ae570e5df</td>\n",
              "      <td>OMG - Usher featuring will.i.am</td>\n",
              "      <td>14</td>\n",
              "      <td>6.0</td>\n",
              "    </tr>\n",
              "    <tr>\n",
              "      <th>2237</th>\n",
              "      <td>4bd88bfb25263a75bbdd467e74018f4ae570e5df</td>\n",
              "      <td>Revelry - Kings Of Leon</td>\n",
              "      <td>14</td>\n",
              "      <td>7.0</td>\n",
              "    </tr>\n",
              "    <tr>\n",
              "      <th>863</th>\n",
              "      <td>4bd88bfb25263a75bbdd467e74018f4ae570e5df</td>\n",
              "      <td>Fireflies - Charttraxx Karaoke</td>\n",
              "      <td>13</td>\n",
              "      <td>8.0</td>\n",
              "    </tr>\n",
              "    <tr>\n",
              "      <th>1150</th>\n",
              "      <td>4bd88bfb25263a75bbdd467e74018f4ae570e5df</td>\n",
              "      <td>Hey_ Soul Sister - Train</td>\n",
              "      <td>13</td>\n",
              "      <td>9.0</td>\n",
              "    </tr>\n",
              "    <tr>\n",
              "      <th>3017</th>\n",
              "      <td>4bd88bfb25263a75bbdd467e74018f4ae570e5df</td>\n",
              "      <td>Use Somebody - Kings Of Leon</td>\n",
              "      <td>12</td>\n",
              "      <td>10.0</td>\n",
              "    </tr>\n",
              "  </tbody>\n",
              "</table>\n",
              "</div>"
            ],
            "text/plain": [
              "                                       user_id  ...  Rank\n",
              "2352  4bd88bfb25263a75bbdd467e74018f4ae570e5df  ...   1.0\n",
              "2999  4bd88bfb25263a75bbdd467e74018f4ae570e5df  ...   2.0\n",
              "3268  4bd88bfb25263a75bbdd467e74018f4ae570e5df  ...   3.0\n",
              "665   4bd88bfb25263a75bbdd467e74018f4ae570e5df  ...   4.0\n",
              "1716  4bd88bfb25263a75bbdd467e74018f4ae570e5df  ...   5.0\n",
              "1958  4bd88bfb25263a75bbdd467e74018f4ae570e5df  ...   6.0\n",
              "2237  4bd88bfb25263a75bbdd467e74018f4ae570e5df  ...   7.0\n",
              "863   4bd88bfb25263a75bbdd467e74018f4ae570e5df  ...   8.0\n",
              "1150  4bd88bfb25263a75bbdd467e74018f4ae570e5df  ...   9.0\n",
              "3017  4bd88bfb25263a75bbdd467e74018f4ae570e5df  ...  10.0\n",
              "\n",
              "[10 rows x 4 columns]"
            ]
          },
          "metadata": {
            "tags": []
          },
          "execution_count": 42
        }
      ]
    },
    {
      "cell_type": "code",
      "metadata": {
        "id": "8HmSpQhtU4wm",
        "colab_type": "code",
        "colab": {}
      },
      "source": [
        "is_model = Recommenders.item_similarity_recommender_py()"
      ],
      "execution_count": 43,
      "outputs": []
    },
    {
      "cell_type": "code",
      "metadata": {
        "colab_type": "code",
        "id": "XmjolhldS3zn",
        "colab": {}
      },
      "source": [
        "is_model.create(train_data, 'user_id', 'song')"
      ],
      "execution_count": 44,
      "outputs": []
    },
    {
      "cell_type": "code",
      "metadata": {
        "id": "-4tjUNnvTaKM",
        "colab_type": "code",
        "colab": {
          "base_uri": "https://localhost:8080/",
          "height": 476
        },
        "outputId": "44216755-f73c-43c2-cdf7-223e79d021c6"
      },
      "source": [
        "user_id = users[9]\n",
        "\n",
        "user_items = is_model.get_user_items(user_id)\n",
        "\n",
        "for user_item in user_items:\n",
        "\n",
        "   print(user_item)"
      ],
      "execution_count": 45,
      "outputs": [
        {
          "output_type": "stream",
          "text": [
            "Electric Feel - MGMT\n",
            "I'm Back - Eminem\n",
            "Let There Be Light (album version) - Justice\n",
            "Burnin' (Edit version) - Daft Punk\n",
            "Steam Machine - Daft Punk\n",
            "Technologic - Daft Punk\n",
            "The Righteous And The Wicked (Album Version) - Red Hot Chili Peppers\n",
            "No Sleep Till Brooklyn - The Beastie Boys\n",
            "It's Tricky - RUN-DMC\n",
            "Rock'n Roll - Daft Punk\n",
            "Da Funk - Daft Punk\n",
            "Robot Rock - Daft Punk\n",
            "Amityville - Eminem / Bizarre\n",
            "Aerodynamic - Daft Punk\n",
            "Voyager - Daft Punk\n",
            "Superhereos - Daft Punk\n",
            "Too Long - Daft Punk\n",
            "Never Let You Go - Justin Bieber\n",
            "Digital Love - Daft Punk\n",
            "Meanwhile_ Rick James... - Cake\n",
            "Television Rules The Nation - Daft Punk\n",
            "Too Shy - Kajagoogoo\n",
            "Jumping Jack Flash - The Rolling Stones\n",
            "Breaking The Girl (Album Version) - Red Hot Chili Peppers\n",
            "Human After All - Daft Punk\n",
            "Something About Us - Daft Punk\n",
            "High Life - Daft Punk\n"
          ],
          "name": "stdout"
        }
      ]
    },
    {
      "cell_type": "code",
      "metadata": {
        "id": "JX560e9UXotB",
        "colab_type": "code",
        "colab": {}
      },
      "source": [
        "pm.create(train_data, 'user_id', 'song')"
      ],
      "execution_count": 46,
      "outputs": []
    },
    {
      "cell_type": "code",
      "metadata": {
        "id": "FU4yfiJiTbqz",
        "colab_type": "code",
        "colab": {}
      },
      "source": [
        "user_id = users[9]"
      ],
      "execution_count": 47,
      "outputs": []
    },
    {
      "cell_type": "code",
      "metadata": {
        "id": "mUK7RTw9Tbgu",
        "colab_type": "code",
        "colab": {
          "base_uri": "https://localhost:8080/",
          "height": 359
        },
        "outputId": "ea552f4f-e08b-40cc-8c08-8e56a7e4f54a"
      },
      "source": [
        "pm.recommend(user_id)"
      ],
      "execution_count": 48,
      "outputs": [
        {
          "output_type": "execute_result",
          "data": {
            "text/html": [
              "<div>\n",
              "<style scoped>\n",
              "    .dataframe tbody tr th:only-of-type {\n",
              "        vertical-align: middle;\n",
              "    }\n",
              "\n",
              "    .dataframe tbody tr th {\n",
              "        vertical-align: top;\n",
              "    }\n",
              "\n",
              "    .dataframe thead th {\n",
              "        text-align: right;\n",
              "    }\n",
              "</style>\n",
              "<table border=\"1\" class=\"dataframe\">\n",
              "  <thead>\n",
              "    <tr style=\"text-align: right;\">\n",
              "      <th></th>\n",
              "      <th>user_id</th>\n",
              "      <th>song</th>\n",
              "      <th>score</th>\n",
              "      <th>Rank</th>\n",
              "    </tr>\n",
              "  </thead>\n",
              "  <tbody>\n",
              "    <tr>\n",
              "      <th>2352</th>\n",
              "      <td>b64cdd1a0bd907e5e00b39e345194768e330d652</td>\n",
              "      <td>Sehr kosmisch - Harmonia</td>\n",
              "      <td>22</td>\n",
              "      <td>1.0</td>\n",
              "    </tr>\n",
              "    <tr>\n",
              "      <th>2999</th>\n",
              "      <td>b64cdd1a0bd907e5e00b39e345194768e330d652</td>\n",
              "      <td>Undo - Björk</td>\n",
              "      <td>19</td>\n",
              "      <td>2.0</td>\n",
              "    </tr>\n",
              "    <tr>\n",
              "      <th>3268</th>\n",
              "      <td>b64cdd1a0bd907e5e00b39e345194768e330d652</td>\n",
              "      <td>You're The One - Dwight Yoakam</td>\n",
              "      <td>16</td>\n",
              "      <td>3.0</td>\n",
              "    </tr>\n",
              "    <tr>\n",
              "      <th>665</th>\n",
              "      <td>b64cdd1a0bd907e5e00b39e345194768e330d652</td>\n",
              "      <td>Dog Days Are Over (Radio Edit) - Florence + Th...</td>\n",
              "      <td>15</td>\n",
              "      <td>4.0</td>\n",
              "    </tr>\n",
              "    <tr>\n",
              "      <th>1716</th>\n",
              "      <td>b64cdd1a0bd907e5e00b39e345194768e330d652</td>\n",
              "      <td>Marry Me - Train</td>\n",
              "      <td>14</td>\n",
              "      <td>5.0</td>\n",
              "    </tr>\n",
              "    <tr>\n",
              "      <th>1958</th>\n",
              "      <td>b64cdd1a0bd907e5e00b39e345194768e330d652</td>\n",
              "      <td>OMG - Usher featuring will.i.am</td>\n",
              "      <td>14</td>\n",
              "      <td>6.0</td>\n",
              "    </tr>\n",
              "    <tr>\n",
              "      <th>2237</th>\n",
              "      <td>b64cdd1a0bd907e5e00b39e345194768e330d652</td>\n",
              "      <td>Revelry - Kings Of Leon</td>\n",
              "      <td>14</td>\n",
              "      <td>7.0</td>\n",
              "    </tr>\n",
              "    <tr>\n",
              "      <th>863</th>\n",
              "      <td>b64cdd1a0bd907e5e00b39e345194768e330d652</td>\n",
              "      <td>Fireflies - Charttraxx Karaoke</td>\n",
              "      <td>13</td>\n",
              "      <td>8.0</td>\n",
              "    </tr>\n",
              "    <tr>\n",
              "      <th>1150</th>\n",
              "      <td>b64cdd1a0bd907e5e00b39e345194768e330d652</td>\n",
              "      <td>Hey_ Soul Sister - Train</td>\n",
              "      <td>13</td>\n",
              "      <td>9.0</td>\n",
              "    </tr>\n",
              "    <tr>\n",
              "      <th>3017</th>\n",
              "      <td>b64cdd1a0bd907e5e00b39e345194768e330d652</td>\n",
              "      <td>Use Somebody - Kings Of Leon</td>\n",
              "      <td>12</td>\n",
              "      <td>10.0</td>\n",
              "    </tr>\n",
              "  </tbody>\n",
              "</table>\n",
              "</div>"
            ],
            "text/plain": [
              "                                       user_id  ...  Rank\n",
              "2352  b64cdd1a0bd907e5e00b39e345194768e330d652  ...   1.0\n",
              "2999  b64cdd1a0bd907e5e00b39e345194768e330d652  ...   2.0\n",
              "3268  b64cdd1a0bd907e5e00b39e345194768e330d652  ...   3.0\n",
              "665   b64cdd1a0bd907e5e00b39e345194768e330d652  ...   4.0\n",
              "1716  b64cdd1a0bd907e5e00b39e345194768e330d652  ...   5.0\n",
              "1958  b64cdd1a0bd907e5e00b39e345194768e330d652  ...   6.0\n",
              "2237  b64cdd1a0bd907e5e00b39e345194768e330d652  ...   7.0\n",
              "863   b64cdd1a0bd907e5e00b39e345194768e330d652  ...   8.0\n",
              "1150  b64cdd1a0bd907e5e00b39e345194768e330d652  ...   9.0\n",
              "3017  b64cdd1a0bd907e5e00b39e345194768e330d652  ...  10.0\n",
              "\n",
              "[10 rows x 4 columns]"
            ]
          },
          "metadata": {
            "tags": []
          },
          "execution_count": 48
        }
      ]
    },
    {
      "cell_type": "code",
      "metadata": {
        "id": "Ci59BjUjucFA",
        "colab_type": "code",
        "colab": {
          "base_uri": "https://localhost:8080/",
          "height": 476
        },
        "outputId": "db665eac-ca06-4ae9-8a9e-33c69a8954ea"
      },
      "source": [
        "is_model = Recommenders.item_similarity_recommender_py()\n",
        "\n",
        "is_model.create(train_data, 'user_id', 'song')\n",
        "user_id = users[9]\n",
        "\n",
        "user_items = is_model.get_user_items(user_id)\n",
        "\n",
        "for user_item in user_items:\n",
        "     print(user_item)"
      ],
      "execution_count": 49,
      "outputs": [
        {
          "output_type": "stream",
          "text": [
            "Electric Feel - MGMT\n",
            "I'm Back - Eminem\n",
            "Let There Be Light (album version) - Justice\n",
            "Burnin' (Edit version) - Daft Punk\n",
            "Steam Machine - Daft Punk\n",
            "Technologic - Daft Punk\n",
            "The Righteous And The Wicked (Album Version) - Red Hot Chili Peppers\n",
            "No Sleep Till Brooklyn - The Beastie Boys\n",
            "It's Tricky - RUN-DMC\n",
            "Rock'n Roll - Daft Punk\n",
            "Da Funk - Daft Punk\n",
            "Robot Rock - Daft Punk\n",
            "Amityville - Eminem / Bizarre\n",
            "Aerodynamic - Daft Punk\n",
            "Voyager - Daft Punk\n",
            "Superhereos - Daft Punk\n",
            "Too Long - Daft Punk\n",
            "Never Let You Go - Justin Bieber\n",
            "Digital Love - Daft Punk\n",
            "Meanwhile_ Rick James... - Cake\n",
            "Television Rules The Nation - Daft Punk\n",
            "Too Shy - Kajagoogoo\n",
            "Jumping Jack Flash - The Rolling Stones\n",
            "Breaking The Girl (Album Version) - Red Hot Chili Peppers\n",
            "Human After All - Daft Punk\n",
            "Something About Us - Daft Punk\n",
            "High Life - Daft Punk\n"
          ],
          "name": "stdout"
        }
      ]
    },
    {
      "cell_type": "code",
      "metadata": {
        "id": "jOw900APucBr",
        "colab_type": "code",
        "colab": {}
      },
      "source": [
        "is_model.create(train_data, 'user_id', 'song')"
      ],
      "execution_count": 50,
      "outputs": []
    },
    {
      "cell_type": "code",
      "metadata": {
        "id": "MflfDQqvub6u",
        "colab_type": "code",
        "colab": {
          "base_uri": "https://localhost:8080/",
          "height": 529
        },
        "outputId": "011fded1-e79f-44ec-899c-38489458b1a9"
      },
      "source": [
        "user_id = users[5]\n",
        "user_items = is_model.get_user_items(user_id)\n",
        "\n",
        "for user_item in user_items:\n",
        "  print(user_item)\n",
        "pm.recommend(user_id)"
      ],
      "execution_count": 51,
      "outputs": [
        {
          "output_type": "stream",
          "text": [
            "Speechless - Lady GaGa\n",
            "Push It - Salt-N-Pepa\n",
            "Ghosts 'n' Stuff (Original Instrumental Mix) - Deadmau5\n",
            "Say My Name - Destiny's Child\n",
            "My Dad's Gone Crazy - Eminem / Hailie Jade\n",
            "The Real Slim Shady - Eminem\n",
            "Somebody To Love - Justin Bieber\n",
            "Forgive Me - Leona Lewis\n",
            "Missing You - John Waite\n",
            "Ya Nada Queda - Kudai\n"
          ],
          "name": "stdout"
        },
        {
          "output_type": "execute_result",
          "data": {
            "text/html": [
              "<div>\n",
              "<style scoped>\n",
              "    .dataframe tbody tr th:only-of-type {\n",
              "        vertical-align: middle;\n",
              "    }\n",
              "\n",
              "    .dataframe tbody tr th {\n",
              "        vertical-align: top;\n",
              "    }\n",
              "\n",
              "    .dataframe thead th {\n",
              "        text-align: right;\n",
              "    }\n",
              "</style>\n",
              "<table border=\"1\" class=\"dataframe\">\n",
              "  <thead>\n",
              "    <tr style=\"text-align: right;\">\n",
              "      <th></th>\n",
              "      <th>user_id</th>\n",
              "      <th>song</th>\n",
              "      <th>score</th>\n",
              "      <th>Rank</th>\n",
              "    </tr>\n",
              "  </thead>\n",
              "  <tbody>\n",
              "    <tr>\n",
              "      <th>2352</th>\n",
              "      <td>4bd88bfb25263a75bbdd467e74018f4ae570e5df</td>\n",
              "      <td>Sehr kosmisch - Harmonia</td>\n",
              "      <td>22</td>\n",
              "      <td>1.0</td>\n",
              "    </tr>\n",
              "    <tr>\n",
              "      <th>2999</th>\n",
              "      <td>4bd88bfb25263a75bbdd467e74018f4ae570e5df</td>\n",
              "      <td>Undo - Björk</td>\n",
              "      <td>19</td>\n",
              "      <td>2.0</td>\n",
              "    </tr>\n",
              "    <tr>\n",
              "      <th>3268</th>\n",
              "      <td>4bd88bfb25263a75bbdd467e74018f4ae570e5df</td>\n",
              "      <td>You're The One - Dwight Yoakam</td>\n",
              "      <td>16</td>\n",
              "      <td>3.0</td>\n",
              "    </tr>\n",
              "    <tr>\n",
              "      <th>665</th>\n",
              "      <td>4bd88bfb25263a75bbdd467e74018f4ae570e5df</td>\n",
              "      <td>Dog Days Are Over (Radio Edit) - Florence + Th...</td>\n",
              "      <td>15</td>\n",
              "      <td>4.0</td>\n",
              "    </tr>\n",
              "    <tr>\n",
              "      <th>1716</th>\n",
              "      <td>4bd88bfb25263a75bbdd467e74018f4ae570e5df</td>\n",
              "      <td>Marry Me - Train</td>\n",
              "      <td>14</td>\n",
              "      <td>5.0</td>\n",
              "    </tr>\n",
              "    <tr>\n",
              "      <th>1958</th>\n",
              "      <td>4bd88bfb25263a75bbdd467e74018f4ae570e5df</td>\n",
              "      <td>OMG - Usher featuring will.i.am</td>\n",
              "      <td>14</td>\n",
              "      <td>6.0</td>\n",
              "    </tr>\n",
              "    <tr>\n",
              "      <th>2237</th>\n",
              "      <td>4bd88bfb25263a75bbdd467e74018f4ae570e5df</td>\n",
              "      <td>Revelry - Kings Of Leon</td>\n",
              "      <td>14</td>\n",
              "      <td>7.0</td>\n",
              "    </tr>\n",
              "    <tr>\n",
              "      <th>863</th>\n",
              "      <td>4bd88bfb25263a75bbdd467e74018f4ae570e5df</td>\n",
              "      <td>Fireflies - Charttraxx Karaoke</td>\n",
              "      <td>13</td>\n",
              "      <td>8.0</td>\n",
              "    </tr>\n",
              "    <tr>\n",
              "      <th>1150</th>\n",
              "      <td>4bd88bfb25263a75bbdd467e74018f4ae570e5df</td>\n",
              "      <td>Hey_ Soul Sister - Train</td>\n",
              "      <td>13</td>\n",
              "      <td>9.0</td>\n",
              "    </tr>\n",
              "    <tr>\n",
              "      <th>3017</th>\n",
              "      <td>4bd88bfb25263a75bbdd467e74018f4ae570e5df</td>\n",
              "      <td>Use Somebody - Kings Of Leon</td>\n",
              "      <td>12</td>\n",
              "      <td>10.0</td>\n",
              "    </tr>\n",
              "  </tbody>\n",
              "</table>\n",
              "</div>"
            ],
            "text/plain": [
              "                                       user_id  ...  Rank\n",
              "2352  4bd88bfb25263a75bbdd467e74018f4ae570e5df  ...   1.0\n",
              "2999  4bd88bfb25263a75bbdd467e74018f4ae570e5df  ...   2.0\n",
              "3268  4bd88bfb25263a75bbdd467e74018f4ae570e5df  ...   3.0\n",
              "665   4bd88bfb25263a75bbdd467e74018f4ae570e5df  ...   4.0\n",
              "1716  4bd88bfb25263a75bbdd467e74018f4ae570e5df  ...   5.0\n",
              "1958  4bd88bfb25263a75bbdd467e74018f4ae570e5df  ...   6.0\n",
              "2237  4bd88bfb25263a75bbdd467e74018f4ae570e5df  ...   7.0\n",
              "863   4bd88bfb25263a75bbdd467e74018f4ae570e5df  ...   8.0\n",
              "1150  4bd88bfb25263a75bbdd467e74018f4ae570e5df  ...   9.0\n",
              "3017  4bd88bfb25263a75bbdd467e74018f4ae570e5df  ...  10.0\n",
              "\n",
              "[10 rows x 4 columns]"
            ]
          },
          "metadata": {
            "tags": []
          },
          "execution_count": 51
        }
      ]
    },
    {
      "cell_type": "code",
      "metadata": {
        "id": "NfV5qqRcubx1",
        "colab_type": "code",
        "colab": {
          "base_uri": "https://localhost:8080/",
          "height": 393
        },
        "outputId": "71bb204c-1dd6-4a3c-a788-41f0d3e7a375"
      },
      "source": [
        "song = 'Yellow – Coldplay'\n",
        "\n",
        "is_model.get_similar_items([song])"
      ],
      "execution_count": 53,
      "outputs": [
        {
          "output_type": "stream",
          "text": [
            "no. of unique songs in the training set: 3302\n",
            "Non zero values in cooccurence_matrix :0\n"
          ],
          "name": "stdout"
        },
        {
          "output_type": "execute_result",
          "data": {
            "text/html": [
              "<div>\n",
              "<style scoped>\n",
              "    .dataframe tbody tr th:only-of-type {\n",
              "        vertical-align: middle;\n",
              "    }\n",
              "\n",
              "    .dataframe tbody tr th {\n",
              "        vertical-align: top;\n",
              "    }\n",
              "\n",
              "    .dataframe thead th {\n",
              "        text-align: right;\n",
              "    }\n",
              "</style>\n",
              "<table border=\"1\" class=\"dataframe\">\n",
              "  <thead>\n",
              "    <tr style=\"text-align: right;\">\n",
              "      <th></th>\n",
              "      <th>user_id</th>\n",
              "      <th>song</th>\n",
              "      <th>score</th>\n",
              "      <th>rank</th>\n",
              "    </tr>\n",
              "  </thead>\n",
              "  <tbody>\n",
              "    <tr>\n",
              "      <th>0</th>\n",
              "      <td></td>\n",
              "      <td>Cover My Eyes - La Roux</td>\n",
              "      <td>0.0</td>\n",
              "      <td>1</td>\n",
              "    </tr>\n",
              "    <tr>\n",
              "      <th>1</th>\n",
              "      <td></td>\n",
              "      <td>The Carpal Tunnel Of Love - Fall Out Boy</td>\n",
              "      <td>0.0</td>\n",
              "      <td>2</td>\n",
              "    </tr>\n",
              "    <tr>\n",
              "      <th>2</th>\n",
              "      <td></td>\n",
              "      <td>The Whole World - Outkast Featuring Killer Mike</td>\n",
              "      <td>0.0</td>\n",
              "      <td>3</td>\n",
              "    </tr>\n",
              "    <tr>\n",
              "      <th>3</th>\n",
              "      <td></td>\n",
              "      <td>Go With The Flow - Queens Of The Stone Age</td>\n",
              "      <td>0.0</td>\n",
              "      <td>4</td>\n",
              "    </tr>\n",
              "    <tr>\n",
              "      <th>4</th>\n",
              "      <td></td>\n",
              "      <td>These Days - The Black Keys</td>\n",
              "      <td>0.0</td>\n",
              "      <td>5</td>\n",
              "    </tr>\n",
              "    <tr>\n",
              "      <th>5</th>\n",
              "      <td></td>\n",
              "      <td>She Just Likes To Fight - Four Tet</td>\n",
              "      <td>0.0</td>\n",
              "      <td>6</td>\n",
              "    </tr>\n",
              "    <tr>\n",
              "      <th>6</th>\n",
              "      <td></td>\n",
              "      <td>Mourning Air - Portishead</td>\n",
              "      <td>0.0</td>\n",
              "      <td>7</td>\n",
              "    </tr>\n",
              "    <tr>\n",
              "      <th>7</th>\n",
              "      <td></td>\n",
              "      <td>Break Through - Colbie Caillat</td>\n",
              "      <td>0.0</td>\n",
              "      <td>8</td>\n",
              "    </tr>\n",
              "    <tr>\n",
              "      <th>8</th>\n",
              "      <td></td>\n",
              "      <td>Creepin Up The Backstairs - The Fratellis</td>\n",
              "      <td>0.0</td>\n",
              "      <td>9</td>\n",
              "    </tr>\n",
              "    <tr>\n",
              "      <th>9</th>\n",
              "      <td></td>\n",
              "      <td>Warning Sign - Coldplay</td>\n",
              "      <td>0.0</td>\n",
              "      <td>10</td>\n",
              "    </tr>\n",
              "  </tbody>\n",
              "</table>\n",
              "</div>"
            ],
            "text/plain": [
              "  user_id                                             song  score rank\n",
              "0                                  Cover My Eyes - La Roux    0.0    1\n",
              "1                 The Carpal Tunnel Of Love - Fall Out Boy    0.0    2\n",
              "2          The Whole World - Outkast Featuring Killer Mike    0.0    3\n",
              "3               Go With The Flow - Queens Of The Stone Age    0.0    4\n",
              "4                              These Days - The Black Keys    0.0    5\n",
              "5                       She Just Likes To Fight - Four Tet    0.0    6\n",
              "6                                Mourning Air - Portishead    0.0    7\n",
              "7                           Break Through - Colbie Caillat    0.0    8\n",
              "8                Creepin Up The Backstairs - The Fratellis    0.0    9\n",
              "9                                  Warning Sign - Coldplay    0.0   10"
            ]
          },
          "metadata": {
            "tags": []
          },
          "execution_count": 53
        }
      ]
    },
    {
      "cell_type": "markdown",
      "metadata": {
        "id": "kjpL6hAuJjtX",
        "colab_type": "text"
      },
      "source": [
        ""
      ]
    },
    {
      "cell_type": "code",
      "metadata": {
        "id": "VoDwRP0yubuD",
        "colab_type": "code",
        "colab": {
          "resources": {
            "http://localhost:8080/nbextensions/google.colab/files.js": {
              "data": "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",
              "ok": true,
              "headers": [
                [
                  "content-type",
                  "application/javascript"
                ]
              ],
              "status": 200,
              "status_text": ""
            }
          },
          "base_uri": "https://localhost:8080/",
          "height": 72
        },
        "outputId": "ec519082-c8ba-43a1-b793-749c4ed03499"
      },
      "source": [
        "\n",
        "from google.colab import files\n",
        "src = list(files.upload().values())[0]\n",
        "open('Evaluation.py','wb').write(src)\n",
        "import Evaluation"
      ],
      "execution_count": 54,
      "outputs": [
        {
          "output_type": "display_data",
          "data": {
            "text/html": [
              "\n",
              "     <input type=\"file\" id=\"files-1ff9cabb-bfcd-4ac2-828e-35332398840c\" name=\"files[]\" multiple disabled\n",
              "        style=\"border:none\" />\n",
              "     <output id=\"result-1ff9cabb-bfcd-4ac2-828e-35332398840c\">\n",
              "      Upload widget is only available when the cell has been executed in the\n",
              "      current browser session. Please rerun this cell to enable.\n",
              "      </output>\n",
              "      <script src=\"/nbextensions/google.colab/files.js\"></script> "
            ],
            "text/plain": [
              "<IPython.core.display.HTML object>"
            ]
          },
          "metadata": {
            "tags": []
          }
        },
        {
          "output_type": "stream",
          "text": [
            "Saving evaluation.py to evaluation.py\n"
          ],
          "name": "stdout"
        }
      ]
    },
    {
      "cell_type": "markdown",
      "metadata": {
        "id": "-eqR_mv6NXKr",
        "colab_type": "text"
      },
      "source": [
        "Quantitative comparison between the models"
      ]
    },
    {
      "cell_type": "code",
      "metadata": {
        "id": "m7mBPMoOubqK",
        "colab_type": "code",
        "colab": {
          "base_uri": "https://localhost:8080/",
          "height": 71
        },
        "outputId": "daf6d59b-fe25-4fba-9fe0-868c70bee1c5"
      },
      "source": [
        "import Evaluation as Evaluation\n",
        "import time\n",
        "from sklearn.externals import joblib"
      ],
      "execution_count": 65,
      "outputs": [
        {
          "output_type": "stream",
          "text": [
            "/usr/local/lib/python3.6/dist-packages/sklearn/externals/joblib/__init__.py:15: FutureWarning: sklearn.externals.joblib is deprecated in 0.21 and will be removed in 0.23. Please import this functionality directly from joblib, which can be installed with: pip install joblib. If this warning is raised when loading pickled models, you may need to re-serialize those models with scikit-learn 0.21+.\n",
            "  warnings.warn(msg, category=FutureWarning)\n"
          ],
          "name": "stderr"
        }
      ]
    },
    {
      "cell_type": "code",
      "metadata": {
        "id": "lNiJotz-ubmE",
        "colab_type": "code",
        "colab": {
          "base_uri": "https://localhost:8080/",
          "height": 1000
        },
        "outputId": "fb6f23f2-e3a8-4d05-c059-3b43dbf837ca"
      },
      "source": [
        "start = time.time()\n",
        "\n",
        "#Define what percentage of users to use for precision recall calculation\n",
        "user_sample = 0.05\n",
        "\n",
        "#Instantiate the precision_recall_calculator class\n",
        "pr = Evaluation.precision_recall_calculator(test_data, train_data, pm, is_model)\n",
        "\n",
        "#Call method to calculate precision and recall values\n",
        "(pm_avg_precision_list, pm_avg_recall_list, ism_avg_precision_list, ism_avg_recall_list) = pr.calculate_measures(user_sample)\n",
        "\n",
        "end = time.time()\n",
        "print(end - start)"
      ],
      "execution_count": 57,
      "outputs": [
        {
          "output_type": "stream",
          "text": [
            "Length of user_test_and_training:352\n",
            "Length of user sample:17\n",
            "Getting recommendations for user:1764b2ebb09e2a40e11ed82f9c37a53a706cc4e1\n",
            "No. of unique songs for the user: 9\n",
            "no. of unique songs in the training set: 3302\n",
            "Non zero values in cooccurence_matrix :258\n",
            "Getting recommendations for user:3851d01aa9d1b2505fa361b63940e8cdc9a3e754\n",
            "No. of unique songs for the user: 14\n",
            "no. of unique songs in the training set: 3302\n",
            "Non zero values in cooccurence_matrix :1209\n",
            "Getting recommendations for user:1b704d4cddabea8258bd93497fcb73eab32fa592\n",
            "No. of unique songs for the user: 71\n",
            "no. of unique songs in the training set: 3302\n",
            "Non zero values in cooccurence_matrix :6306\n",
            "Getting recommendations for user:d305e8d98cf77ce3b90c69580dd3fc38e86fee93\n",
            "No. of unique songs for the user: 7\n",
            "no. of unique songs in the training set: 3302\n",
            "Non zero values in cooccurence_matrix :152\n",
            "Getting recommendations for user:b64cdd1a0bd907e5e00b39e345194768e330d652\n",
            "No. of unique songs for the user: 27\n",
            "no. of unique songs in the training set: 3302\n",
            "Non zero values in cooccurence_matrix :2644\n",
            "Getting recommendations for user:7d0317ddb859a960cb4836e7c7e9982a54fd64e2\n",
            "No. of unique songs for the user: 11\n",
            "no. of unique songs in the training set: 3302\n",
            "Non zero values in cooccurence_matrix :727\n",
            "Getting recommendations for user:51182330ee3e55d808df31a951032692c5cefe8a\n",
            "No. of unique songs for the user: 9\n",
            "no. of unique songs in the training set: 3302\n",
            "Non zero values in cooccurence_matrix :489\n",
            "Getting recommendations for user:0eda271c8bf8b846c1c0320f6b7656ca73b80992\n",
            "No. of unique songs for the user: 1\n",
            "no. of unique songs in the training set: 3302\n",
            "Non zero values in cooccurence_matrix :1\n",
            "Getting recommendations for user:c24ec42f0e449ff39a95a01f0795f833b898f71b\n",
            "No. of unique songs for the user: 72\n",
            "no. of unique songs in the training set: 3302\n",
            "Non zero values in cooccurence_matrix :9959\n",
            "Getting recommendations for user:0afaa5d9d04bf85af720fe8cc566a41ca3e41c97\n",
            "No. of unique songs for the user: 12\n",
            "no. of unique songs in the training set: 3302\n",
            "Non zero values in cooccurence_matrix :937\n",
            "Getting recommendations for user:f5e8cc6983d563ff255988b9ea0c53e67941f71e\n",
            "No. of unique songs for the user: 8\n",
            "no. of unique songs in the training set: 3302\n",
            "Non zero values in cooccurence_matrix :85\n",
            "Getting recommendations for user:537340ff896dea11328910013cfe759413e1eeb3\n",
            "No. of unique songs for the user: 13\n",
            "no. of unique songs in the training set: 3302\n",
            "Non zero values in cooccurence_matrix :738\n",
            "Getting recommendations for user:6e431141b00c8b8708bda73d658b7ef6ef156e5e\n",
            "No. of unique songs for the user: 6\n",
            "no. of unique songs in the training set: 3302\n",
            "Non zero values in cooccurence_matrix :295\n",
            "Getting recommendations for user:4208d4ac45e7caab7167a4ea6d34e759a6b9a1fc\n",
            "No. of unique songs for the user: 17\n",
            "no. of unique songs in the training set: 3302\n",
            "Non zero values in cooccurence_matrix :1264\n",
            "Getting recommendations for user:4f18554aeb06f8d8612037549100d6d8d4afd021\n",
            "No. of unique songs for the user: 5\n",
            "no. of unique songs in the training set: 3302\n",
            "Non zero values in cooccurence_matrix :229\n",
            "Getting recommendations for user:5e161b9e14f303a0cef2d3f44d07dd946549f89f\n",
            "No. of unique songs for the user: 4\n",
            "no. of unique songs in the training set: 3302\n",
            "Non zero values in cooccurence_matrix :155\n",
            "Getting recommendations for user:3b3c1e29095a98ae07e2427522244f10daa69340\n",
            "No. of unique songs for the user: 10\n",
            "no. of unique songs in the training set: 3302\n",
            "Non zero values in cooccurence_matrix :251\n",
            "57.243194341659546\n"
          ],
          "name": "stdout"
        }
      ]
    },
    {
      "cell_type": "markdown",
      "metadata": {
        "id": "QeuZydsUNhT7",
        "colab_type": "text"
      },
      "source": [
        "\n",
        "Code to plot precision recall curve"
      ]
    },
    {
      "cell_type": "code",
      "metadata": {
        "id": "YSw_nTj8MbPd",
        "colab_type": "code",
        "colab": {}
      },
      "source": [
        "import pylab as pl\n",
        "\n",
        "#Method to generate precision and recall curve\n",
        "def plot_precision_recall(m1_precision_list, m1_recall_list, m1_label, m2_precision_list, m2_recall_list, m2_label):\n",
        "    pl.clf()    \n",
        "    pl.plot(m1_recall_list, m1_precision_list, label=m1_label)\n",
        "    pl.plot(m2_recall_list, m2_precision_list, label=m2_label)\n",
        "    pl.xlabel('Recall')\n",
        "    pl.ylabel('Precision')\n",
        "    pl.ylim([0.0, 0.20])\n",
        "    pl.xlim([0.0, 0.20])\n",
        "    pl.title('Precision-Recall curve')\n",
        "    #pl.legend(loc=\"upper right\")\n",
        "    pl.legend(loc=9, bbox_to_anchor=(0.5, -0.2))\n",
        "    pl.show()"
      ],
      "execution_count": 59,
      "outputs": []
    },
    {
      "cell_type": "code",
      "metadata": {
        "id": "LenjA9wiMbJ5",
        "colab_type": "code",
        "colab": {
          "base_uri": "https://localhost:8080/",
          "height": 365
        },
        "outputId": "d1ca5206-9bb4-4cb1-e33c-1a1f1e6225b9"
      },
      "source": [
        "print(\"Plotting precision recall curves.\")\n",
        "\n",
        "plot_precision_recall(pm_avg_precision_list, pm_avg_recall_list, \"popularity_model\",\n",
        "                      ism_avg_precision_list, ism_avg_recall_list, \"item_similarity_model\")"
      ],
      "execution_count": 60,
      "outputs": [
        {
          "output_type": "stream",
          "text": [
            "Plotting precision recall curves.\n"
          ],
          "name": "stdout"
        },
        {
          "output_type": "display_data",
          "data": {
            "image/png": "[encoded data removed]",
            "text/plain": [
              "<Figure size 432x288 with 1 Axes>"
            ]
          },
          "metadata": {
            "tags": []
          }
        }
      ]
    },
    {
      "cell_type": "code",
      "metadata": {
        "id": "uQ3_0hhGMbGt",
        "colab_type": "code",
        "colab": {}
      },
      "source": [
        ""
      ],
      "execution_count": 66,
      "outputs": []
    },
    {
      "cell_type": "code",
      "metadata": {
        "id": "kNv8ssnfubiP",
        "colab_type": "code",
        "colab": {}
      },
      "source": [
        ""
      ],
      "execution_count": 51,
      "outputs": []
    }
  ]
}